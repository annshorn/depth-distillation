{
 "cells": [
  {
   "cell_type": "code",
   "execution_count": 2,
   "metadata": {},
   "outputs": [
    {
     "name": "stdout",
     "output_type": "stream",
     "text": [
      "Dataset:500\n"
     ]
    },
    {
     "name": "stderr",
     "output_type": "stream",
     "text": [
      "500it [28:28,  3.42s/it]\n"
     ]
    },
    {
     "name": "stdout",
     "output_type": "stream",
     "text": [
      "MAE: 0.07265675144741514, fmeasure: 0.8909035691654591 \n",
      "\n"
     ]
    },
    {
     "data": {
      "text/plain": [
       "0.07265675144741514"
      ]
     },
     "execution_count": 2,
     "metadata": {},
     "output_type": "execute_result"
    }
   ],
   "source": [
    "# demo and evaluate\n",
    "import os\n",
    "import numpy as np\n",
    "import time\n",
    "import datetime\n",
    "from tqdm import tqdm\n",
    "\n",
    "import cv2\n",
    "import models\n",
    "import torch\n",
    "\n",
    "from torch.utils.data import DataLoader\n",
    "from torchvision import datasets\n",
    "import torchvision.transforms as transforms\n",
    "from torch.autograd import Variable\n",
    "\n",
    "from datasets import *\n",
    "from utils import *\n",
    "from paths import *\n",
    "\n",
    "from sklearn.metrics import accuracy_score,f1_score,roc_auc_score,recall_score,precision_score\n",
    "\n",
    "cuda = True if torch.cuda.is_available() else False\n",
    "num_gpu = list(range(torch.cuda.device_count()))\n",
    "generator = models.__dict__['resskspp']()\n",
    "\n",
    "if cuda:\n",
    "    generator = generator.cuda()\n",
    "\n",
    "generator.load_state_dict(torch.load(pretrained_res_best, map_location=torch.device('cpu')))\n",
    "\n",
    "dut_CE_dataloader = DataLoader( DefocusDataset(root=DUTDefocus,mode=\"test\"),\n",
    "    batch_size=1, shuffle=False,num_workers=1)\n",
    "\n",
    "# Tensor type\n",
    "Tensor = torch.cuda.FloatTensor if cuda else torch.FloatTensor\n",
    "\n",
    "def val():\n",
    "\n",
    "    dictx = {\n",
    "        \"dut\":dut_CE_dataloader,\n",
    "    }\n",
    "\n",
    "    generator.eval()\n",
    "    \n",
    "    with torch.no_grad():\n",
    "        for data_name, dataloaderx in dictx.items():\n",
    "            mae,preds,gts = [],[],[]\n",
    "            for i, batch in tqdm(iter(enumerate(dataloaderx))):\n",
    "                # Model inputs\n",
    "                real_A = Variable(batch[\"A\"].type(Tensor))\n",
    "                rgb_A = batch[\"Ao\"][0]\n",
    "                mask = batch[\"M\"]\n",
    "                name = batch[\"name\"][0]\n",
    "\n",
    "                gs,ds = generator(real_A)\n",
    "                generated_depth = resize_to_match(ds[0], mask)\n",
    "                pred_depth = np.clip(to_numpy(generated_depth[0,0]),0,1.0)\n",
    "                depth = np.uint8(pred_depth*255)\n",
    "                \n",
    "                generated_mask = torch.sigmoid(gs[0])\n",
    "                generated_mask = resize_to_match(generated_mask, mask)\n",
    "              \n",
    "                pred_float = to_numpy(generated_mask[0, 0])\n",
    "                gt_float = to_numpy(mask[0])\n",
    "\n",
    "                #MAE\n",
    "                mae.append(np.sum(cv2.absdiff(gt_float.astype(float),pred_float.astype(float)))/(pred_float.shape[1]*pred_float.shape[0]))\n",
    "\n",
    "                pred = np.uint8(pred_float * 255)\n",
    "                gt = np.uint8(gt_float*255)\n",
    "\n",
    "                pred_float_ = np.where(pred>min(1.5*np.mean(pred),255),np.ones_like(pred_float),np.zeros_like(pred_float))\n",
    "                gt_float_ = np.where(gt>min(1.5*np.mean(gt),255),np.ones_like(pred_float),np.zeros_like(pred_float))\n",
    "\n",
    "                preds.extend(pred_float_.ravel())\n",
    "                gts.extend(gt_float_.ravel())\n",
    "\n",
    "            RECALL = recall_score(gts,preds)\n",
    "            PERC = precision_score(gts,preds)\n",
    "\n",
    "            fmeasure = (1+0.3)*PERC*RECALL/(0.3*PERC+RECALL)\n",
    "            MAE = np.mean(mae)\n",
    "            print(\"MAE: %s, fmeasure: %s \" % (MAE,fmeasure))\n",
    "            print()\n",
    "    return MAE\n",
    "\n",
    "val()\n",
    "\n",
    "\n"
   ]
  },
  {
   "cell_type": "code",
   "execution_count": null,
   "metadata": {},
   "outputs": [],
   "source": []
  },
  {
   "cell_type": "code",
   "execution_count": null,
   "metadata": {},
   "outputs": [],
   "source": []
  }
 ],
 "metadata": {
  "kernelspec": {
   "display_name": "Python 3",
   "language": "python",
   "name": "python3"
  },
  "language_info": {
   "codemirror_mode": {
    "name": "ipython",
    "version": 3
   },
   "file_extension": ".py",
   "mimetype": "text/x-python",
   "name": "python",
   "nbconvert_exporter": "python",
   "pygments_lexer": "ipython3",
   "version": "3.6.8"
  }
 },
 "nbformat": 4,
 "nbformat_minor": 4
}
